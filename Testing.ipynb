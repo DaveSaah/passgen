{
 "cells": [
  {
   "cell_type": "code",
   "execution_count": 18,
   "metadata": {},
   "outputs": [
    {
     "data": {
      "text/plain": [
       "Dict{String, Int64} with 72 entries:\n",
       "  \"Z\" => 25\n",
       "  \"1\" => 53\n",
       "  \"C\" => 2\n",
       "  \"2\" => 54\n",
       "  \"r\" => 43\n",
       "  \"y\" => 50\n",
       "  \"#\" => 70\n",
       "  \"*\" => 62\n",
       "  \"u\" => 46\n",
       "  \")\" => 69\n",
       "  \"K\" => 10\n",
       "  \"5\" => 57\n",
       "  \"(\" => 68\n",
       "  \"H\" => 7\n",
       "  \"9\" => 61\n",
       "  \"F\" => 5\n",
       "  \"c\" => 28\n",
       "  \"T\" => 19\n",
       "  \"e\" => 30\n",
       "  ⋮   => ⋮"
      ]
     },
     "metadata": {},
     "output_type": "display_data"
    }
   ],
   "source": [
    "init = Dict(\n",
    "    \"A\" => 0,\n",
    "    \"B\" => 1,\n",
    "    \"C\" => 2,\n",
    "    \"D\" => 3,\n",
    "    \"E\" => 4,\n",
    "    \"F\" => 5,\n",
    "    \"G\" => 6,\n",
    "    \"H\" => 7,\n",
    "    \"I\" => 8,\n",
    "    \"J\" => 9,\n",
    "    \"K\" => 10,\n",
    "    \"L\" => 11,\n",
    "    \"M\" => 12,\n",
    "    \"N\" => 13,\n",
    "    \"O\" => 14,\n",
    "    \"P\" => 15,\n",
    "    \"Q\" => 16,\n",
    "    \"R\" => 17,\n",
    "    \"S\" => 18,\n",
    "    \"T\" => 19,\n",
    "    \"U\" => 20,\n",
    "    \"V\" => 21,\n",
    "    \"W\" => 22,\n",
    "    \"X\" => 23,\n",
    "    \"Y\" => 24,\n",
    "    \"Z\" => 25,\n",
    "    \"a\" => 26,\n",
    "    \"b\" => 27,\n",
    "    \"c\" => 28,\n",
    "    \"d\" => 29,\n",
    "    \"e\" => 30,\n",
    "    \"f\" => 31,\n",
    "    \"g\" => 32,\n",
    "    \"h\" => 33,\n",
    "    \"i\" => 34,\n",
    "    \"j\" => 35,\n",
    "    \"k\" => 36,\n",
    "    \"l\" => 37,\n",
    "    \"m\" => 38,\n",
    "    \"n\" => 39,\n",
    "    \"o\" => 40,\n",
    "    \"p\" => 41,\n",
    "    \"q\" => 42,\n",
    "    \"r\" => 43,\n",
    "    \"s\" => 44,\n",
    "    \"t\" => 45,\n",
    "    \"u\" => 46,\n",
    "    \"v\" => 47,\n",
    "    \"w\" => 48,\n",
    "    \"x\" => 49,\n",
    "    \"y\" => 50,\n",
    "    \"z\" => 51,\n",
    "    \"0\" => 52,\n",
    "    \"1\" => 53,\n",
    "    \"2\" => 54,\n",
    "    \"3\" => 55,\n",
    "    \"4\" => 56,\n",
    "    \"5\" => 57,\n",
    "    \"6\" => 58,\n",
    "    \"7\" => 59,\n",
    "    \"8\" => 60,\n",
    "    \"9\" => 61,\n",
    "    \"*\" => 62,\n",
    "    \"-\" => 63,\n",
    "    \"_\" => 64,\n",
    "    \"`\" => 65,\n",
    "    \"&\" => 66,\n",
    "    \"£\" => 67,\n",
    "    \"(\" => 68,\n",
    "    \")\" => 69,\n",
    "    \"#\" => 70,\n",
    "    \"?\" => 71,\n",
    ")"
   ]
  },
  {
   "cell_type": "code",
   "execution_count": 9,
   "metadata": {},
   "outputs": [
    {
     "data": {
      "text/plain": [
       "\"Dave\""
      ]
     },
     "metadata": {},
     "output_type": "display_data"
    }
   ],
   "source": [
    "name = \"Dave\""
   ]
  },
  {
   "cell_type": "code",
   "execution_count": 45,
   "metadata": {},
   "outputs": [
    {
     "data": {
      "text/plain": [
       "4-element Vector{String}:\n",
       " #undef\n",
       " #undef\n",
       " #undef\n",
       " #undef"
      ]
     },
     "metadata": {},
     "output_type": "display_data"
    }
   ],
   "source": [
    "encrypted = Vector{String}(undef, length(name))"
   ]
  },
  {
   "cell_type": "code",
   "execution_count": 46,
   "metadata": {},
   "outputs": [],
   "source": [
    "for i in 1:length(name)\n",
    "    encrypted[i] = string(name[i])\n",
    "end\n"
   ]
  },
  {
   "cell_type": "code",
   "execution_count": 47,
   "metadata": {},
   "outputs": [
    {
     "data": {
      "text/plain": [
       "4-element Vector{String}:\n",
       " \"D\"\n",
       " \"a\"\n",
       " \"v\"\n",
       " \"e\""
      ]
     },
     "metadata": {},
     "output_type": "display_data"
    }
   ],
   "source": [
    "encrypted"
   ]
  },
  {
   "cell_type": "code",
   "execution_count": 48,
   "metadata": {},
   "outputs": [],
   "source": [
    "newname = Vector{Int64}()\n",
    "for x in encrypted\n",
    "    append!(newname, init[x])\n",
    "end\n"
   ]
  },
  {
   "cell_type": "code",
   "execution_count": 50,
   "metadata": {},
   "outputs": [
    {
     "data": {
      "text/plain": [
       "4-element Vector{Int64}:\n",
       "  3\n",
       " 26\n",
       " 47\n",
       " 30"
      ]
     },
     "metadata": {},
     "output_type": "display_data"
    }
   ],
   "source": [
    "newname"
   ]
  },
  {
   "cell_type": "code",
   "execution_count": 51,
   "metadata": {},
   "outputs": [
    {
     "data": {
      "text/plain": [
       "f (generic function with 1 method)"
      ]
     },
     "metadata": {},
     "output_type": "display_data"
    }
   ],
   "source": [
    "f(x) = (2x + 16) % 73"
   ]
  },
  {
   "cell_type": "code",
   "execution_count": 53,
   "metadata": {},
   "outputs": [],
   "source": [
    "for x = 1:length(newname)\n",
    "    newname[x] = f(newname[x])\n",
    "end"
   ]
  },
  {
   "cell_type": "code",
   "execution_count": 56,
   "metadata": {},
   "outputs": [
    {
     "data": {
      "text/plain": [
       "4-element Vector{Int64}:\n",
       " 22\n",
       " 68\n",
       " 37\n",
       "  3"
      ]
     },
     "metadata": {},
     "output_type": "display_data"
    }
   ],
   "source": [
    "newname"
   ]
  },
  {
   "cell_type": "code",
   "execution_count": 68,
   "metadata": {},
   "outputs": [
    {
     "data": {
      "text/plain": [
       "KeySet for a Dict{String, Int64} with 72 entries. Keys:\n",
       "  \"Z\"\n",
       "  \"1\"\n",
       "  \"C\"\n",
       "  \"2\"\n",
       "  \"r\"\n",
       "  \"y\"\n",
       "  \"#\"\n",
       "  \"*\"\n",
       "  \"u\"\n",
       "  \")\"\n",
       "  \"K\"\n",
       "  \"5\"\n",
       "  \"(\"\n",
       "  \"H\"\n",
       "  \"9\"\n",
       "  \"F\"\n",
       "  \"c\"\n",
       "  \"T\"\n",
       "  \"e\"\n",
       "  ⋮"
      ]
     },
     "metadata": {},
     "output_type": "display_data"
    }
   ],
   "source": [
    "keys(init)"
   ]
  },
  {
   "cell_type": "code",
   "execution_count": 70,
   "metadata": {},
   "outputs": [
    {
     "data": {
      "text/plain": [
       "Dict{Any, Any}()"
      ]
     },
     "metadata": {},
     "output_type": "display_data"
    }
   ],
   "source": [
    "decrypt = Dict(\n",
    "    \n",
    ")"
   ]
  },
  {
   "cell_type": "code",
   "execution_count": 79,
   "metadata": {},
   "outputs": [
    {
     "data": {
      "text/plain": [
       "Dict{Int64, String}()"
      ]
     },
     "metadata": {},
     "output_type": "display_data"
    }
   ],
   "source": [
    "some = Dict{Int64, String}()\n"
   ]
  },
  {
   "cell_type": "code",
   "execution_count": 93,
   "metadata": {},
   "outputs": [],
   "source": [
    "for (m, n) in zip(values(init), keys(init))\n",
    "    some[m] = n\n",
    "end"
   ]
  },
  {
   "cell_type": "code",
   "execution_count": 95,
   "metadata": {},
   "outputs": [
    {
     "data": {
      "text/plain": [
       "Dict{Int64, String} with 72 entries:\n",
       "  5  => \"F\"\n",
       "  56 => \"4\"\n",
       "  35 => \"j\"\n",
       "  55 => \"3\"\n",
       "  60 => \"8\"\n",
       "  30 => \"e\"\n",
       "  32 => \"g\"\n",
       "  6  => \"G\"\n",
       "  67 => \"£\"\n",
       "  45 => \"t\"\n",
       "  64 => \"_\"\n",
       "  13 => \"N\"\n",
       "  4  => \"E\"\n",
       "  54 => \"2\"\n",
       "  63 => \"-\"\n",
       "  62 => \"*\"\n",
       "  58 => \"6\"\n",
       "  52 => \"0\"\n",
       "  12 => \"M\"\n",
       "  ⋮  => ⋮"
      ]
     },
     "metadata": {},
     "output_type": "display_data"
    }
   ],
   "source": [
    "some"
   ]
  },
  {
   "cell_type": "code",
   "execution_count": 97,
   "metadata": {},
   "outputs": [
    {
     "data": {
      "text/plain": [
       "4-element Vector{Int64}:\n",
       " 22\n",
       " 68\n",
       " 37\n",
       "  3"
      ]
     },
     "metadata": {},
     "output_type": "display_data"
    }
   ],
   "source": [
    "newname"
   ]
  },
  {
   "cell_type": "code",
   "execution_count": 98,
   "metadata": {},
   "outputs": [],
   "source": [
    "newone = \"\"\n",
    "for x in newname\n",
    "    newone *= some[x]\n",
    "end"
   ]
  },
  {
   "cell_type": "code",
   "execution_count": 99,
   "metadata": {},
   "outputs": [
    {
     "data": {
      "text/plain": [
       "\"W(lD\""
      ]
     },
     "metadata": {},
     "output_type": "display_data"
    }
   ],
   "source": [
    "newone"
   ]
  }
 ],
 "metadata": {
  "kernelspec": {
   "display_name": "Julia 1.7.3",
   "language": "julia",
   "name": "julia-1.7"
  },
  "language_info": {
   "file_extension": ".jl",
   "mimetype": "application/julia",
   "name": "julia",
   "version": "1.7.3"
  },
  "orig_nbformat": 4
 },
 "nbformat": 4,
 "nbformat_minor": 2
}
